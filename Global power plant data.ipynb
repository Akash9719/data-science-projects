{
 "cells": [
  {
   "cell_type": "code",
   "execution_count": 1,
   "metadata": {},
   "outputs": [],
   "source": [
    "#importing libraries\n",
    "import pandas as pd\n",
    "import matplotlib.pyplot as plt\n",
    "import seaborn as sns\n",
    "import sklearn\n",
    "from sklearn.linear_model import LinearRegression\n",
    "from sklearn.metrics import accuracy_score\n",
    "from sklearn.metrics import confusion_matrix, classification_report,f1_score\n",
    "from sklearn.model_selection import train_test_split\n",
    "from scipy.stats import zscore\n",
    "import warnings\n",
    "warnings.filterwarnings('ignore')"
   ]
  },
  {
   "cell_type": "code",
   "execution_count": 2,
   "metadata": {},
   "outputs": [
    {
     "data": {
      "text/html": [
       "<div>\n",
       "<style scoped>\n",
       "    .dataframe tbody tr th:only-of-type {\n",
       "        vertical-align: middle;\n",
       "    }\n",
       "\n",
       "    .dataframe tbody tr th {\n",
       "        vertical-align: top;\n",
       "    }\n",
       "\n",
       "    .dataframe thead th {\n",
       "        text-align: right;\n",
       "    }\n",
       "</style>\n",
       "<table border=\"1\" class=\"dataframe\">\n",
       "  <thead>\n",
       "    <tr style=\"text-align: right;\">\n",
       "      <th></th>\n",
       "      <th>country</th>\n",
       "      <th>country_long</th>\n",
       "      <th>name</th>\n",
       "      <th>gppd_idnr</th>\n",
       "      <th>capacity_mw</th>\n",
       "      <th>latitude</th>\n",
       "      <th>longitude</th>\n",
       "      <th>primary_fuel</th>\n",
       "      <th>other_fuel1</th>\n",
       "      <th>other_fuel2</th>\n",
       "      <th>other_fuel3</th>\n",
       "      <th>commissioning_year</th>\n",
       "      <th>owner</th>\n",
       "      <th>source</th>\n",
       "      <th>url</th>\n",
       "      <th>geolocation_source</th>\n",
       "      <th>wepp_id</th>\n",
       "      <th>year_of_capacity_data</th>\n",
       "      <th>generation_gwh_2013</th>\n",
       "      <th>generation_gwh_2014</th>\n",
       "      <th>generation_gwh_2015</th>\n",
       "      <th>generation_gwh_2016</th>\n",
       "      <th>generation_gwh_2017</th>\n",
       "      <th>generation_data_source</th>\n",
       "      <th>estimated_generation_gwh</th>\n",
       "    </tr>\n",
       "  </thead>\n",
       "  <tbody>\n",
       "    <tr>\n",
       "      <th>0</th>\n",
       "      <td>IND</td>\n",
       "      <td>India</td>\n",
       "      <td>ACME Solar Tower</td>\n",
       "      <td>WRI1020239</td>\n",
       "      <td>2.5</td>\n",
       "      <td>28.1839</td>\n",
       "      <td>73.2407</td>\n",
       "      <td>Solar</td>\n",
       "      <td>NaN</td>\n",
       "      <td>NaN</td>\n",
       "      <td>NaN</td>\n",
       "      <td>2011.0</td>\n",
       "      <td>Solar Paces</td>\n",
       "      <td>National Renewable Energy Laboratory</td>\n",
       "      <td>http://www.nrel.gov/csp/solarpaces/project_det...</td>\n",
       "      <td>National Renewable Energy Laboratory</td>\n",
       "      <td>NaN</td>\n",
       "      <td>NaN</td>\n",
       "      <td>NaN</td>\n",
       "      <td>NaN</td>\n",
       "      <td>NaN</td>\n",
       "      <td>NaN</td>\n",
       "      <td>NaN</td>\n",
       "      <td>NaN</td>\n",
       "      <td>NaN</td>\n",
       "    </tr>\n",
       "    <tr>\n",
       "      <th>1</th>\n",
       "      <td>IND</td>\n",
       "      <td>India</td>\n",
       "      <td>ADITYA CEMENT WORKS</td>\n",
       "      <td>WRI1019881</td>\n",
       "      <td>98.0</td>\n",
       "      <td>24.7663</td>\n",
       "      <td>74.6090</td>\n",
       "      <td>Coal</td>\n",
       "      <td>NaN</td>\n",
       "      <td>NaN</td>\n",
       "      <td>NaN</td>\n",
       "      <td>NaN</td>\n",
       "      <td>Ultratech Cement ltd</td>\n",
       "      <td>Ultratech Cement ltd</td>\n",
       "      <td>http://www.ultratechcement.com/</td>\n",
       "      <td>WRI</td>\n",
       "      <td>NaN</td>\n",
       "      <td>NaN</td>\n",
       "      <td>NaN</td>\n",
       "      <td>NaN</td>\n",
       "      <td>NaN</td>\n",
       "      <td>NaN</td>\n",
       "      <td>NaN</td>\n",
       "      <td>NaN</td>\n",
       "      <td>NaN</td>\n",
       "    </tr>\n",
       "    <tr>\n",
       "      <th>2</th>\n",
       "      <td>IND</td>\n",
       "      <td>India</td>\n",
       "      <td>AES Saurashtra Windfarms</td>\n",
       "      <td>WRI1026669</td>\n",
       "      <td>39.2</td>\n",
       "      <td>21.9038</td>\n",
       "      <td>69.3732</td>\n",
       "      <td>Wind</td>\n",
       "      <td>NaN</td>\n",
       "      <td>NaN</td>\n",
       "      <td>NaN</td>\n",
       "      <td>NaN</td>\n",
       "      <td>AES</td>\n",
       "      <td>CDM</td>\n",
       "      <td>https://cdm.unfccc.int/Projects/DB/DNV-CUK1328...</td>\n",
       "      <td>WRI</td>\n",
       "      <td>NaN</td>\n",
       "      <td>NaN</td>\n",
       "      <td>NaN</td>\n",
       "      <td>NaN</td>\n",
       "      <td>NaN</td>\n",
       "      <td>NaN</td>\n",
       "      <td>NaN</td>\n",
       "      <td>NaN</td>\n",
       "      <td>NaN</td>\n",
       "    </tr>\n",
       "    <tr>\n",
       "      <th>3</th>\n",
       "      <td>IND</td>\n",
       "      <td>India</td>\n",
       "      <td>AGARTALA GT</td>\n",
       "      <td>IND0000001</td>\n",
       "      <td>135.0</td>\n",
       "      <td>23.8712</td>\n",
       "      <td>91.3602</td>\n",
       "      <td>Gas</td>\n",
       "      <td>NaN</td>\n",
       "      <td>NaN</td>\n",
       "      <td>NaN</td>\n",
       "      <td>2004.0</td>\n",
       "      <td>NaN</td>\n",
       "      <td>Central Electricity Authority</td>\n",
       "      <td>http://www.cea.nic.in/</td>\n",
       "      <td>WRI</td>\n",
       "      <td>NaN</td>\n",
       "      <td>2018.0</td>\n",
       "      <td>631.777928</td>\n",
       "      <td>617.789264</td>\n",
       "      <td>843.747</td>\n",
       "      <td>886.004428</td>\n",
       "      <td>663.774500</td>\n",
       "      <td>Central Electricity Authority</td>\n",
       "      <td>NaN</td>\n",
       "    </tr>\n",
       "    <tr>\n",
       "      <th>4</th>\n",
       "      <td>IND</td>\n",
       "      <td>India</td>\n",
       "      <td>AKALTARA TPP</td>\n",
       "      <td>IND0000002</td>\n",
       "      <td>1800.0</td>\n",
       "      <td>21.9603</td>\n",
       "      <td>82.4091</td>\n",
       "      <td>Coal</td>\n",
       "      <td>Oil</td>\n",
       "      <td>NaN</td>\n",
       "      <td>NaN</td>\n",
       "      <td>2015.0</td>\n",
       "      <td>NaN</td>\n",
       "      <td>Central Electricity Authority</td>\n",
       "      <td>http://www.cea.nic.in/</td>\n",
       "      <td>WRI</td>\n",
       "      <td>NaN</td>\n",
       "      <td>2018.0</td>\n",
       "      <td>1668.290000</td>\n",
       "      <td>3035.550000</td>\n",
       "      <td>5916.370</td>\n",
       "      <td>6243.000000</td>\n",
       "      <td>5385.579736</td>\n",
       "      <td>Central Electricity Authority</td>\n",
       "      <td>NaN</td>\n",
       "    </tr>\n",
       "  </tbody>\n",
       "</table>\n",
       "</div>"
      ],
      "text/plain": [
       "  country country_long                      name   gppd_idnr  capacity_mw  \\\n",
       "0     IND        India          ACME Solar Tower  WRI1020239          2.5   \n",
       "1     IND        India       ADITYA CEMENT WORKS  WRI1019881         98.0   \n",
       "2     IND        India  AES Saurashtra Windfarms  WRI1026669         39.2   \n",
       "3     IND        India               AGARTALA GT  IND0000001        135.0   \n",
       "4     IND        India              AKALTARA TPP  IND0000002       1800.0   \n",
       "\n",
       "   latitude  longitude primary_fuel other_fuel1 other_fuel2  other_fuel3  \\\n",
       "0   28.1839    73.2407        Solar         NaN         NaN          NaN   \n",
       "1   24.7663    74.6090         Coal         NaN         NaN          NaN   \n",
       "2   21.9038    69.3732         Wind         NaN         NaN          NaN   \n",
       "3   23.8712    91.3602          Gas         NaN         NaN          NaN   \n",
       "4   21.9603    82.4091         Coal         Oil         NaN          NaN   \n",
       "\n",
       "   commissioning_year                 owner  \\\n",
       "0              2011.0           Solar Paces   \n",
       "1                 NaN  Ultratech Cement ltd   \n",
       "2                 NaN                   AES   \n",
       "3              2004.0                   NaN   \n",
       "4              2015.0                   NaN   \n",
       "\n",
       "                                 source  \\\n",
       "0  National Renewable Energy Laboratory   \n",
       "1                  Ultratech Cement ltd   \n",
       "2                                   CDM   \n",
       "3         Central Electricity Authority   \n",
       "4         Central Electricity Authority   \n",
       "\n",
       "                                                 url  \\\n",
       "0  http://www.nrel.gov/csp/solarpaces/project_det...   \n",
       "1                    http://www.ultratechcement.com/   \n",
       "2  https://cdm.unfccc.int/Projects/DB/DNV-CUK1328...   \n",
       "3                             http://www.cea.nic.in/   \n",
       "4                             http://www.cea.nic.in/   \n",
       "\n",
       "                     geolocation_source  wepp_id  year_of_capacity_data  \\\n",
       "0  National Renewable Energy Laboratory      NaN                    NaN   \n",
       "1                                   WRI      NaN                    NaN   \n",
       "2                                   WRI      NaN                    NaN   \n",
       "3                                   WRI      NaN                 2018.0   \n",
       "4                                   WRI      NaN                 2018.0   \n",
       "\n",
       "   generation_gwh_2013  generation_gwh_2014  generation_gwh_2015  \\\n",
       "0                  NaN                  NaN                  NaN   \n",
       "1                  NaN                  NaN                  NaN   \n",
       "2                  NaN                  NaN                  NaN   \n",
       "3           631.777928           617.789264              843.747   \n",
       "4          1668.290000          3035.550000             5916.370   \n",
       "\n",
       "   generation_gwh_2016  generation_gwh_2017         generation_data_source  \\\n",
       "0                  NaN                  NaN                            NaN   \n",
       "1                  NaN                  NaN                            NaN   \n",
       "2                  NaN                  NaN                            NaN   \n",
       "3           886.004428           663.774500  Central Electricity Authority   \n",
       "4          6243.000000          5385.579736  Central Electricity Authority   \n",
       "\n",
       "   estimated_generation_gwh  \n",
       "0                       NaN  \n",
       "1                       NaN  \n",
       "2                       NaN  \n",
       "3                       NaN  \n",
       "4                       NaN  "
      ]
     },
     "execution_count": 2,
     "metadata": {},
     "output_type": "execute_result"
    }
   ],
   "source": [
    "#importing data and display the data head\n",
    "pd.set_option('display.max_columns',None)\n",
    "df = pd.read_csv(\"database_IND.csv\")\n",
    "df.head()"
   ]
  },
  {
   "cell_type": "code",
   "execution_count": 3,
   "metadata": {},
   "outputs": [
    {
     "data": {
      "text/plain": [
       "(908, 25)"
      ]
     },
     "execution_count": 3,
     "metadata": {},
     "output_type": "execute_result"
    }
   ],
   "source": [
    "#checking shape of data\n",
    "df.shape"
   ]
  },
  {
   "cell_type": "code",
   "execution_count": 4,
   "metadata": {},
   "outputs": [
    {
     "name": "stdout",
     "output_type": "stream",
     "text": [
      "<class 'pandas.core.frame.DataFrame'>\n",
      "RangeIndex: 908 entries, 0 to 907\n",
      "Data columns (total 25 columns):\n",
      " #   Column                    Non-Null Count  Dtype  \n",
      "---  ------                    --------------  -----  \n",
      " 0   country                   908 non-null    object \n",
      " 1   country_long              908 non-null    object \n",
      " 2   name                      908 non-null    object \n",
      " 3   gppd_idnr                 908 non-null    object \n",
      " 4   capacity_mw               908 non-null    float64\n",
      " 5   latitude                  862 non-null    float64\n",
      " 6   longitude                 862 non-null    float64\n",
      " 7   primary_fuel              908 non-null    object \n",
      " 8   other_fuel1               199 non-null    object \n",
      " 9   other_fuel2               1 non-null      object \n",
      " 10  other_fuel3               0 non-null      float64\n",
      " 11  commissioning_year        528 non-null    float64\n",
      " 12  owner                     342 non-null    object \n",
      " 13  source                    908 non-null    object \n",
      " 14  url                       908 non-null    object \n",
      " 15  geolocation_source        889 non-null    object \n",
      " 16  wepp_id                   0 non-null      float64\n",
      " 17  year_of_capacity_data     520 non-null    float64\n",
      " 18  generation_gwh_2013       384 non-null    float64\n",
      " 19  generation_gwh_2014       401 non-null    float64\n",
      " 20  generation_gwh_2015       425 non-null    float64\n",
      " 21  generation_gwh_2016       437 non-null    float64\n",
      " 22  generation_gwh_2017       443 non-null    float64\n",
      " 23  generation_data_source    450 non-null    object \n",
      " 24  estimated_generation_gwh  0 non-null      float64\n",
      "dtypes: float64(13), object(12)\n",
      "memory usage: 177.5+ KB\n"
     ]
    }
   ],
   "source": [
    "#checking information of data\n",
    "df.info()"
   ]
  },
  {
   "cell_type": "code",
   "execution_count": 5,
   "metadata": {},
   "outputs": [
    {
     "data": {
      "text/plain": [
       "country                       0\n",
       "country_long                  0\n",
       "name                          0\n",
       "gppd_idnr                     0\n",
       "capacity_mw                   0\n",
       "latitude                     46\n",
       "longitude                    46\n",
       "primary_fuel                  0\n",
       "other_fuel1                 709\n",
       "other_fuel2                 907\n",
       "other_fuel3                 908\n",
       "commissioning_year          380\n",
       "owner                       566\n",
       "source                        0\n",
       "url                           0\n",
       "geolocation_source           19\n",
       "wepp_id                     908\n",
       "year_of_capacity_data       388\n",
       "generation_gwh_2013         524\n",
       "generation_gwh_2014         507\n",
       "generation_gwh_2015         483\n",
       "generation_gwh_2016         471\n",
       "generation_gwh_2017         465\n",
       "generation_data_source      458\n",
       "estimated_generation_gwh    908\n",
       "dtype: int64"
      ]
     },
     "execution_count": 5,
     "metadata": {},
     "output_type": "execute_result"
    }
   ],
   "source": [
    "#checking for null values\n",
    "df.isnull().sum()"
   ]
  },
  {
   "cell_type": "code",
   "execution_count": 6,
   "metadata": {},
   "outputs": [],
   "source": [
    "#dropping unecessory columns\n",
    "df.drop(['gppd_idnr','owner','url','wepp_id','generation_data_source','year_of_capacity_data'],axis=1,inplace=True)"
   ]
  },
  {
   "cell_type": "code",
   "execution_count": 7,
   "metadata": {},
   "outputs": [
    {
     "data": {
      "text/html": [
       "<div>\n",
       "<style scoped>\n",
       "    .dataframe tbody tr th:only-of-type {\n",
       "        vertical-align: middle;\n",
       "    }\n",
       "\n",
       "    .dataframe tbody tr th {\n",
       "        vertical-align: top;\n",
       "    }\n",
       "\n",
       "    .dataframe thead th {\n",
       "        text-align: right;\n",
       "    }\n",
       "</style>\n",
       "<table border=\"1\" class=\"dataframe\">\n",
       "  <thead>\n",
       "    <tr style=\"text-align: right;\">\n",
       "      <th></th>\n",
       "      <th>capacity_mw</th>\n",
       "      <th>latitude</th>\n",
       "      <th>longitude</th>\n",
       "      <th>other_fuel3</th>\n",
       "      <th>commissioning_year</th>\n",
       "      <th>generation_gwh_2013</th>\n",
       "      <th>generation_gwh_2014</th>\n",
       "      <th>generation_gwh_2015</th>\n",
       "      <th>generation_gwh_2016</th>\n",
       "      <th>generation_gwh_2017</th>\n",
       "      <th>estimated_generation_gwh</th>\n",
       "    </tr>\n",
       "  </thead>\n",
       "  <tbody>\n",
       "    <tr>\n",
       "      <th>count</th>\n",
       "      <td>908.000000</td>\n",
       "      <td>862.000000</td>\n",
       "      <td>862.000000</td>\n",
       "      <td>0.0</td>\n",
       "      <td>528.000000</td>\n",
       "      <td>384.000000</td>\n",
       "      <td>401.000000</td>\n",
       "      <td>425.000000</td>\n",
       "      <td>437.000000</td>\n",
       "      <td>443.000000</td>\n",
       "      <td>0.0</td>\n",
       "    </tr>\n",
       "    <tr>\n",
       "      <th>mean</th>\n",
       "      <td>321.046378</td>\n",
       "      <td>21.196189</td>\n",
       "      <td>77.447848</td>\n",
       "      <td>NaN</td>\n",
       "      <td>1996.876894</td>\n",
       "      <td>2304.059202</td>\n",
       "      <td>2420.393316</td>\n",
       "      <td>2414.072373</td>\n",
       "      <td>2453.936292</td>\n",
       "      <td>2531.754458</td>\n",
       "      <td>NaN</td>\n",
       "    </tr>\n",
       "    <tr>\n",
       "      <th>std</th>\n",
       "      <td>580.221767</td>\n",
       "      <td>6.248627</td>\n",
       "      <td>4.907260</td>\n",
       "      <td>NaN</td>\n",
       "      <td>17.047817</td>\n",
       "      <td>3794.767492</td>\n",
       "      <td>4013.558173</td>\n",
       "      <td>4183.203199</td>\n",
       "      <td>4152.038216</td>\n",
       "      <td>4187.236364</td>\n",
       "      <td>NaN</td>\n",
       "    </tr>\n",
       "    <tr>\n",
       "      <th>min</th>\n",
       "      <td>0.000000</td>\n",
       "      <td>8.168900</td>\n",
       "      <td>68.644700</td>\n",
       "      <td>NaN</td>\n",
       "      <td>1927.000000</td>\n",
       "      <td>0.000000</td>\n",
       "      <td>0.000000</td>\n",
       "      <td>0.000000</td>\n",
       "      <td>0.000000</td>\n",
       "      <td>0.000000</td>\n",
       "      <td>NaN</td>\n",
       "    </tr>\n",
       "    <tr>\n",
       "      <th>25%</th>\n",
       "      <td>16.837500</td>\n",
       "      <td>16.771575</td>\n",
       "      <td>74.258975</td>\n",
       "      <td>NaN</td>\n",
       "      <td>1988.000000</td>\n",
       "      <td>244.458088</td>\n",
       "      <td>223.650436</td>\n",
       "      <td>174.174750</td>\n",
       "      <td>187.193669</td>\n",
       "      <td>177.643170</td>\n",
       "      <td>NaN</td>\n",
       "    </tr>\n",
       "    <tr>\n",
       "      <th>50%</th>\n",
       "      <td>60.000000</td>\n",
       "      <td>21.778300</td>\n",
       "      <td>76.719250</td>\n",
       "      <td>NaN</td>\n",
       "      <td>2000.000000</td>\n",
       "      <td>797.063475</td>\n",
       "      <td>805.760000</td>\n",
       "      <td>701.027250</td>\n",
       "      <td>716.728350</td>\n",
       "      <td>807.601700</td>\n",
       "      <td>NaN</td>\n",
       "    </tr>\n",
       "    <tr>\n",
       "      <th>75%</th>\n",
       "      <td>388.125000</td>\n",
       "      <td>25.516375</td>\n",
       "      <td>79.441475</td>\n",
       "      <td>NaN</td>\n",
       "      <td>2011.250000</td>\n",
       "      <td>2795.021500</td>\n",
       "      <td>3034.575000</td>\n",
       "      <td>3080.000000</td>\n",
       "      <td>3263.483000</td>\n",
       "      <td>3258.785000</td>\n",
       "      <td>NaN</td>\n",
       "    </tr>\n",
       "    <tr>\n",
       "      <th>max</th>\n",
       "      <td>4760.000000</td>\n",
       "      <td>34.649000</td>\n",
       "      <td>95.408000</td>\n",
       "      <td>NaN</td>\n",
       "      <td>2018.000000</td>\n",
       "      <td>27586.200000</td>\n",
       "      <td>28127.000000</td>\n",
       "      <td>30539.000000</td>\n",
       "      <td>30015.000000</td>\n",
       "      <td>35116.000000</td>\n",
       "      <td>NaN</td>\n",
       "    </tr>\n",
       "  </tbody>\n",
       "</table>\n",
       "</div>"
      ],
      "text/plain": [
       "       capacity_mw    latitude   longitude  other_fuel3  commissioning_year  \\\n",
       "count   908.000000  862.000000  862.000000          0.0          528.000000   \n",
       "mean    321.046378   21.196189   77.447848          NaN         1996.876894   \n",
       "std     580.221767    6.248627    4.907260          NaN           17.047817   \n",
       "min       0.000000    8.168900   68.644700          NaN         1927.000000   \n",
       "25%      16.837500   16.771575   74.258975          NaN         1988.000000   \n",
       "50%      60.000000   21.778300   76.719250          NaN         2000.000000   \n",
       "75%     388.125000   25.516375   79.441475          NaN         2011.250000   \n",
       "max    4760.000000   34.649000   95.408000          NaN         2018.000000   \n",
       "\n",
       "       generation_gwh_2013  generation_gwh_2014  generation_gwh_2015  \\\n",
       "count           384.000000           401.000000           425.000000   \n",
       "mean           2304.059202          2420.393316          2414.072373   \n",
       "std            3794.767492          4013.558173          4183.203199   \n",
       "min               0.000000             0.000000             0.000000   \n",
       "25%             244.458088           223.650436           174.174750   \n",
       "50%             797.063475           805.760000           701.027250   \n",
       "75%            2795.021500          3034.575000          3080.000000   \n",
       "max           27586.200000         28127.000000         30539.000000   \n",
       "\n",
       "       generation_gwh_2016  generation_gwh_2017  estimated_generation_gwh  \n",
       "count           437.000000           443.000000                       0.0  \n",
       "mean           2453.936292          2531.754458                       NaN  \n",
       "std            4152.038216          4187.236364                       NaN  \n",
       "min               0.000000             0.000000                       NaN  \n",
       "25%             187.193669           177.643170                       NaN  \n",
       "50%             716.728350           807.601700                       NaN  \n",
       "75%            3263.483000          3258.785000                       NaN  \n",
       "max           30015.000000         35116.000000                       NaN  "
      ]
     },
     "execution_count": 7,
     "metadata": {},
     "output_type": "execute_result"
    }
   ],
   "source": [
    "#describing data\n",
    "df.describe()"
   ]
  },
  {
   "cell_type": "code",
   "execution_count": 8,
   "metadata": {},
   "outputs": [
    {
     "data": {
      "text/plain": [
       "country                       0\n",
       "country_long                  0\n",
       "name                          0\n",
       "capacity_mw                   0\n",
       "latitude                     46\n",
       "longitude                    46\n",
       "primary_fuel                  0\n",
       "other_fuel1                 709\n",
       "other_fuel2                 907\n",
       "other_fuel3                 908\n",
       "commissioning_year          380\n",
       "source                        0\n",
       "geolocation_source           19\n",
       "generation_gwh_2013         524\n",
       "generation_gwh_2014         507\n",
       "generation_gwh_2015         483\n",
       "generation_gwh_2016         471\n",
       "generation_gwh_2017         465\n",
       "estimated_generation_gwh    908\n",
       "dtype: int64"
      ]
     },
     "execution_count": 8,
     "metadata": {},
     "output_type": "execute_result"
    }
   ],
   "source": [
    "df.isnull().sum()"
   ]
  },
  {
   "cell_type": "code",
   "execution_count": 9,
   "metadata": {},
   "outputs": [
    {
     "data": {
      "text/plain": [
       "array(['National Renewable Energy Laboratory', 'WRI', nan,\n",
       "       'Industry About'], dtype=object)"
      ]
     },
     "execution_count": 9,
     "metadata": {},
     "output_type": "execute_result"
    }
   ],
   "source": [
    "#checking for unique values in particular column\n",
    "df['geolocation_source'].unique()"
   ]
  },
  {
   "cell_type": "code",
   "execution_count": 10,
   "metadata": {},
   "outputs": [],
   "source": [
    "#filling null values using mode because the are objects\n",
    "df['geolocation_source'].fillna(df['geolocation_source'].mode()[0],inplace=True)"
   ]
  },
  {
   "cell_type": "code",
   "execution_count": 11,
   "metadata": {},
   "outputs": [],
   "source": [
    "#dropping unecessory data\n",
    "df.drop(['other_fuel1','other_fuel2','other_fuel3'],axis=1,inplace=True)"
   ]
  },
  {
   "cell_type": "code",
   "execution_count": 12,
   "metadata": {},
   "outputs": [],
   "source": [
    "#filling the null  value with median \n",
    "df['generation_gwh_2013'].fillna(df['generation_gwh_2013'].median(),inplace=True)\n",
    "df['generation_gwh_2014'].fillna(df['generation_gwh_2014'].median(),inplace=True)\n",
    "df['generation_gwh_2015'].fillna(df['generation_gwh_2015'].median(),inplace=True)\n",
    "df['generation_gwh_2016'].fillna(df['generation_gwh_2016'].median(),inplace=True)\n",
    "df['generation_gwh_2017'].fillna(df['generation_gwh_2017'].median(),inplace=True)\n",
    "df['commissioning_year'].fillna(df['commissioning_year'].median(),inplace=True)"
   ]
  },
  {
   "cell_type": "code",
   "execution_count": 13,
   "metadata": {},
   "outputs": [],
   "source": [
    "#dropping the columns\n",
    "df.drop(['estimated_generation_gwh'],axis=1,inplace=True)\n",
    "df.drop(['country'],axis=1,inplace=True)\n",
    "df.drop(['country_long'],axis=1,inplace=True)"
   ]
  },
  {
   "cell_type": "code",
   "execution_count": 14,
   "metadata": {},
   "outputs": [],
   "source": [
    "#filling the null values\n",
    "df['latitude'].fillna(df['latitude'].median(),inplace=True)\n",
    "df['longitude'].fillna(df['longitude'].median(),inplace=True)"
   ]
  },
  {
   "cell_type": "code",
   "execution_count": 15,
   "metadata": {},
   "outputs": [
    {
     "data": {
      "text/plain": [
       "name                   0\n",
       "capacity_mw            0\n",
       "latitude               0\n",
       "longitude              0\n",
       "primary_fuel           0\n",
       "commissioning_year     0\n",
       "source                 0\n",
       "geolocation_source     0\n",
       "generation_gwh_2013    0\n",
       "generation_gwh_2014    0\n",
       "generation_gwh_2015    0\n",
       "generation_gwh_2016    0\n",
       "generation_gwh_2017    0\n",
       "dtype: int64"
      ]
     },
     "execution_count": 15,
     "metadata": {},
     "output_type": "execute_result"
    }
   ],
   "source": [
    "#again checking for null values after data cleaning\n",
    "df.isnull().sum()"
   ]
  },
  {
   "cell_type": "code",
   "execution_count": 16,
   "metadata": {},
   "outputs": [
    {
     "data": {
      "text/plain": [
       "<AxesSubplot:>"
      ]
     },
     "execution_count": 16,
     "metadata": {},
     "output_type": "execute_result"
    },
    {
     "data": {
      "image/png": "[encoded data removed]",
      "text/plain": [
       "<Figure size 720x432 with 2 Axes>"
      ]
     },
     "metadata": {
      "needs_background": "light"
     },
     "output_type": "display_data"
    }
   ],
   "source": [
    "#making heatmap for null values\n",
    "plt.figure(figsize=(10,6))\n",
    "sns.heatmap(df.isnull())"
   ]
  },
  {
   "cell_type": "markdown",
   "metadata": {},
   "source": [
    "there is neither have any null values"
   ]
  },
  {
   "cell_type": "code",
   "execution_count": 17,
   "metadata": {},
   "outputs": [
    {
     "data": {
      "text/plain": [
       "<AxesSubplot:xlabel='primary_fuel', ylabel='count'>"
      ]
     },
     "execution_count": 17,
     "metadata": {},
     "output_type": "execute_result"
    },
    {
     "data": {
      "image/png": "[encoded data removed]",
      "text/plain": [
       "<Figure size 720x432 with 1 Axes>"
      ]
     },
     "metadata": {
      "needs_background": "light"
     },
     "output_type": "display_data"
    }
   ],
   "source": [
    "plt.figure(figsize=(10,6))\n",
    "sns.countplot(df['primary_fuel'])"
   ]
  },
  {
   "cell_type": "markdown",
   "metadata": {},
   "source": [
    "we can see the coal and hydro are mosstly used as primary fuel of all time"
   ]
  },
  {
   "cell_type": "code",
   "execution_count": 18,
   "metadata": {},
   "outputs": [
    {
     "data": {
      "text/plain": [
       "<AxesSubplot:xlabel='primary_fuel', ylabel='generation_gwh_2013'>"
      ]
     },
     "execution_count": 18,
     "metadata": {},
     "output_type": "execute_result"
    },
    {
     "data": {
      "image/png": "[encoded data removed]",
      "text/plain": [
       "<Figure size 720x432 with 1 Axes>"
      ]
     },
     "metadata": {
      "needs_background": "light"
     },
     "output_type": "display_data"
    }
   ],
   "source": [
    "#checking relationship between factors and result\n",
    "plt.figure(figsize=(10,6))\n",
    "sns.scatterplot(x=df['primary_fuel'],y=df['generation_gwh_2013'])"
   ]
  },
  {
   "cell_type": "markdown",
   "metadata": {},
   "source": [
    "we can see the coal is mostly used for power generation after tha nuclear and hydro on average rest of other factors like biomass gas, oil, wind, solar are used less. "
   ]
  },
  {
   "cell_type": "code",
   "execution_count": 19,
   "metadata": {},
   "outputs": [
    {
     "data": {
      "text/plain": [
       "<AxesSubplot:xlabel='primary_fuel', ylabel='generation_gwh_2014'>"
      ]
     },
     "execution_count": 19,
     "metadata": {},
     "output_type": "execute_result"
    },
    {
     "data": {
      "image/png": "[encoded data removed]",
      "text/plain": [
       "<Figure size 720x432 with 1 Axes>"
      ]
     },
     "metadata": {
      "needs_background": "light"
     },
     "output_type": "display_data"
    }
   ],
   "source": [
    "#checking relationship between factors and result\n",
    "plt.figure(figsize=(10,6))\n",
    "sns.scatterplot(x=df['primary_fuel'],y=df['generation_gwh_2014'])"
   ]
  },
  {
   "cell_type": "markdown",
   "metadata": {},
   "source": [
    "In 2014 we can see the coal is mostly used for power generation after tha nuclear and hydro on average rest of other factors like biomass gas, oil, wind, solar are used less."
   ]
  },
  {
   "cell_type": "code",
   "execution_count": 20,
   "metadata": {},
   "outputs": [
    {
     "data": {
      "text/plain": [
       "<AxesSubplot:xlabel='primary_fuel', ylabel='generation_gwh_2015'>"
      ]
     },
     "execution_count": 20,
     "metadata": {},
     "output_type": "execute_result"
    },
    {
     "data": {
      "image/png": "[encoded data removed]",
      "text/plain": [
       "<Figure size 720x432 with 1 Axes>"
      ]
     },
     "metadata": {
      "needs_background": "light"
     },
     "output_type": "display_data"
    }
   ],
   "source": [
    "#checking relationship between factors and result\n",
    "plt.figure(figsize=(10,6))\n",
    "sns.scatterplot(x=df['primary_fuel'],y=df['generation_gwh_2015'])"
   ]
  },
  {
   "cell_type": "markdown",
   "metadata": {},
   "source": [
    "we can see the coal is mostly used for power generation after tha nuclear and hydro on average rest of other factors like biomass gas, oil, wind, solar are used less."
   ]
  },
  {
   "cell_type": "code",
   "execution_count": 21,
   "metadata": {},
   "outputs": [
    {
     "data": {
      "text/plain": [
       "<AxesSubplot:xlabel='primary_fuel', ylabel='generation_gwh_2016'>"
      ]
     },
     "execution_count": 21,
     "metadata": {},
     "output_type": "execute_result"
    },
    {
     "data": {
      "image/png": "[encoded data removed]",
      "text/plain": [
       "<Figure size 720x432 with 1 Axes>"
      ]
     },
     "metadata": {
      "needs_background": "light"
     },
     "output_type": "display_data"
    }
   ],
   "source": [
    "#checking relationship between factors and result\n",
    "plt.figure(figsize=(10,6))\n",
    "sns.scatterplot(x=df['primary_fuel'],y=df['generation_gwh_2016'])"
   ]
  },
  {
   "cell_type": "markdown",
   "metadata": {},
   "source": [
    "In 2016 we can see the coal is mostly used for power generation after that nuclear and hydro on average rest of other factors like biomass, oil, wind, solar are used less.and using gas for power generation is increased in 2016"
   ]
  },
  {
   "cell_type": "code",
   "execution_count": 22,
   "metadata": {},
   "outputs": [
    {
     "data": {
      "text/plain": [
       "<AxesSubplot:xlabel='primary_fuel', ylabel='generation_gwh_2017'>"
      ]
     },
     "execution_count": 22,
     "metadata": {},
     "output_type": "execute_result"
    },
    {
     "data": {
      "image/png": "[encoded data removed]",
      "text/plain": [
       "<Figure size 720x432 with 1 Axes>"
      ]
     },
     "metadata": {
      "needs_background": "light"
     },
     "output_type": "display_data"
    }
   ],
   "source": [
    "#checking relationship between factors and result\n",
    "plt.figure(figsize=(10,6))\n",
    "sns.scatterplot(x=df['primary_fuel'],y=df['generation_gwh_2017'])"
   ]
  },
  {
   "cell_type": "markdown",
   "metadata": {},
   "source": [
    "In 2017 we can see the coal is mostly used for power generation after that nuclear and hydro on average rest of other factors like biomass, oil, wind, solar are used less.and using gas for power generation is increased in 2017"
   ]
  },
  {
   "cell_type": "code",
   "execution_count": 23,
   "metadata": {},
   "outputs": [
    {
     "data": {
      "text/plain": [
       "<AxesSubplot:xlabel='primary_fuel', ylabel='capacity_mw'>"
      ]
     },
     "execution_count": 23,
     "metadata": {},
     "output_type": "execute_result"
    },
    {
     "data": {
      "image/png": "[encoded data removed]",
      "text/plain": [
       "<Figure size 720x432 with 1 Axes>"
      ]
     },
     "metadata": {
      "needs_background": "light"
     },
     "output_type": "display_data"
    }
   ],
   "source": [
    "#checking relationship between factors and result\n",
    "plt.figure(figsize=(10,6))\n",
    "sns.scatterplot(x=df['primary_fuel'],y=df['capacity_mw'])"
   ]
  },
  {
   "cell_type": "markdown",
   "metadata": {},
   "source": [
    "we can see coals capacity is high as compare to others"
   ]
  },
  {
   "cell_type": "code",
   "execution_count": 24,
   "metadata": {},
   "outputs": [
    {
     "data": {
      "text/plain": [
       "<AxesSubplot:xlabel='capacity_mw', ylabel='generation_gwh_2013'>"
      ]
     },
     "execution_count": 24,
     "metadata": {},
     "output_type": "execute_result"
    },
    {
     "data": {
      "image/png": "[encoded data removed]",
      "text/plain": [
       "<Figure size 720x432 with 1 Axes>"
      ]
     },
     "metadata": {
      "needs_background": "light"
     },
     "output_type": "display_data"
    }
   ],
   "source": [
    "#checking relationship capacity mw and power generation \n",
    "plt.figure(figsize=(10,6))\n",
    "sns.scatterplot(x=df['capacity_mw'],y=df['generation_gwh_2013'])"
   ]
  },
  {
   "cell_type": "markdown",
   "metadata": {},
   "source": [
    "we can see when the capacity increasing the generation growth is also increassed "
   ]
  },
  {
   "cell_type": "code",
   "execution_count": 25,
   "metadata": {},
   "outputs": [
    {
     "data": {
      "text/plain": [
       "<AxesSubplot:xlabel='capacity_mw', ylabel='generation_gwh_2014'>"
      ]
     },
     "execution_count": 25,
     "metadata": {},
     "output_type": "execute_result"
    },
    {
     "data": {
      "image/png": "[encoded data removed]",
      "text/plain": [
       "<Figure size 720x432 with 1 Axes>"
      ]
     },
     "metadata": {
      "needs_background": "light"
     },
     "output_type": "display_data"
    }
   ],
   "source": [
    "#checking relationship capacity mw and power generation \n",
    "plt.figure(figsize=(10,6))\n",
    "sns.scatterplot(x=df['capacity_mw'],y=df['generation_gwh_2014'])"
   ]
  },
  {
   "cell_type": "markdown",
   "metadata": {},
   "source": [
    "we can see when the capacity increasing the generation growth is also increassed"
   ]
  },
  {
   "cell_type": "code",
   "execution_count": 26,
   "metadata": {},
   "outputs": [
    {
     "data": {
      "text/plain": [
       "<AxesSubplot:xlabel='capacity_mw', ylabel='generation_gwh_2015'>"
      ]
     },
     "execution_count": 26,
     "metadata": {},
     "output_type": "execute_result"
    },
    {
     "data": {
      "image/png": "[encoded data removed]",
      "text/plain": [
       "<Figure size 720x432 with 1 Axes>"
      ]
     },
     "metadata": {
      "needs_background": "light"
     },
     "output_type": "display_data"
    }
   ],
   "source": [
    "#checking relationship capacity mw and power generation \n",
    "plt.figure(figsize=(10,6))\n",
    "sns.scatterplot(x=df['capacity_mw'],y=df['generation_gwh_2015'])"
   ]
  },
  {
   "cell_type": "markdown",
   "metadata": {},
   "source": [
    "we can see when the capacity increasing the generation growth is also increassed"
   ]
  },
  {
   "cell_type": "code",
   "execution_count": 27,
   "metadata": {},
   "outputs": [
    {
     "data": {
      "text/plain": [
       "<AxesSubplot:xlabel='capacity_mw', ylabel='generation_gwh_2016'>"
      ]
     },
     "execution_count": 27,
     "metadata": {},
     "output_type": "execute_result"
    },
    {
     "data": {
      "image/png": "[encoded data removed]",
      "text/plain": [
       "<Figure size 720x432 with 1 Axes>"
      ]
     },
     "metadata": {
      "needs_background": "light"
     },
     "output_type": "display_data"
    }
   ],
   "source": [
    "#checking relationship capacity mw and power generation \n",
    "plt.figure(figsize=(10,6))\n",
    "sns.scatterplot(x=df['capacity_mw'],y=df['generation_gwh_2016'])"
   ]
  },
  {
   "cell_type": "markdown",
   "metadata": {},
   "source": [
    "we can see when the capacity increasing the generation growth is also increassed"
   ]
  },
  {
   "cell_type": "code",
   "execution_count": 28,
   "metadata": {},
   "outputs": [
    {
     "data": {
      "text/plain": [
       "<AxesSubplot:xlabel='capacity_mw', ylabel='generation_gwh_2017'>"
      ]
     },
     "execution_count": 28,
     "metadata": {},
     "output_type": "execute_result"
    },
    {
     "data": {
      "image/png": "[encoded data removed]",
      "text/plain": [
       "<Figure size 720x432 with 1 Axes>"
      ]
     },
     "metadata": {
      "needs_background": "light"
     },
     "output_type": "display_data"
    }
   ],
   "source": [
    "#checking relationship capacity mw and power generation \n",
    "plt.figure(figsize=(10,6))\n",
    "sns.scatterplot(x=df['capacity_mw'],y=df['generation_gwh_2017'])"
   ]
  },
  {
   "cell_type": "markdown",
   "metadata": {},
   "source": [
    "we can see when the capacity increasing the generation growth is also increassed"
   ]
  },
  {
   "cell_type": "code",
   "execution_count": 29,
   "metadata": {},
   "outputs": [],
   "source": [
    "from sklearn.preprocessing import LabelEncoder\n",
    "from scipy.stats import zscore"
   ]
  },
  {
   "cell_type": "code",
   "execution_count": 30,
   "metadata": {},
   "outputs": [
    {
     "name": "stdout",
     "output_type": "stream",
     "text": [
      "<class 'pandas.core.frame.DataFrame'>\n",
      "RangeIndex: 908 entries, 0 to 907\n",
      "Data columns (total 13 columns):\n",
      " #   Column               Non-Null Count  Dtype  \n",
      "---  ------               --------------  -----  \n",
      " 0   name                 908 non-null    object \n",
      " 1   capacity_mw          908 non-null    float64\n",
      " 2   latitude             908 non-null    float64\n",
      " 3   longitude            908 non-null    float64\n",
      " 4   primary_fuel         908 non-null    object \n",
      " 5   commissioning_year   908 non-null    float64\n",
      " 6   source               908 non-null    object \n",
      " 7   geolocation_source   908 non-null    object \n",
      " 8   generation_gwh_2013  908 non-null    float64\n",
      " 9   generation_gwh_2014  908 non-null    float64\n",
      " 10  generation_gwh_2015  908 non-null    float64\n",
      " 11  generation_gwh_2016  908 non-null    float64\n",
      " 12  generation_gwh_2017  908 non-null    float64\n",
      "dtypes: float64(9), object(4)\n",
      "memory usage: 92.3+ KB\n"
     ]
    }
   ],
   "source": [
    "df.info()"
   ]
  },
  {
   "cell_type": "code",
   "execution_count": 31,
   "metadata": {},
   "outputs": [],
   "source": [
    "df.drop(['name'],axis=1,inplace=True)"
   ]
  },
  {
   "cell_type": "code",
   "execution_count": 32,
   "metadata": {},
   "outputs": [],
   "source": [
    "enc=LabelEncoder()\n",
    "df['primary_fuel']=enc.fit_transform(df['primary_fuel'])\n",
    "df['source']=enc.fit_transform(df['source'])\n",
    "df['geolocation_source']=enc.fit_transform(df['geolocation_source'])"
   ]
  },
  {
   "cell_type": "code",
   "execution_count": 33,
   "metadata": {},
   "outputs": [
    {
     "data": {
      "text/html": [
       "<div>\n",
       "<style scoped>\n",
       "    .dataframe tbody tr th:only-of-type {\n",
       "        vertical-align: middle;\n",
       "    }\n",
       "\n",
       "    .dataframe tbody tr th {\n",
       "        vertical-align: top;\n",
       "    }\n",
       "\n",
       "    .dataframe thead th {\n",
       "        text-align: right;\n",
       "    }\n",
       "</style>\n",
       "<table border=\"1\" class=\"dataframe\">\n",
       "  <thead>\n",
       "    <tr style=\"text-align: right;\">\n",
       "      <th></th>\n",
       "      <th>capacity_mw</th>\n",
       "      <th>latitude</th>\n",
       "      <th>longitude</th>\n",
       "      <th>primary_fuel</th>\n",
       "      <th>commissioning_year</th>\n",
       "      <th>source</th>\n",
       "      <th>geolocation_source</th>\n",
       "      <th>generation_gwh_2013</th>\n",
       "      <th>generation_gwh_2014</th>\n",
       "      <th>generation_gwh_2015</th>\n",
       "      <th>generation_gwh_2016</th>\n",
       "      <th>generation_gwh_2017</th>\n",
       "    </tr>\n",
       "  </thead>\n",
       "  <tbody>\n",
       "    <tr>\n",
       "      <th>0</th>\n",
       "      <td>2.5</td>\n",
       "      <td>28.1839</td>\n",
       "      <td>73.2407</td>\n",
       "      <td>6</td>\n",
       "      <td>2011.0</td>\n",
       "      <td>109</td>\n",
       "      <td>1</td>\n",
       "      <td>797.063475</td>\n",
       "      <td>805.760000</td>\n",
       "      <td>701.02725</td>\n",
       "      <td>716.728350</td>\n",
       "      <td>807.601700</td>\n",
       "    </tr>\n",
       "    <tr>\n",
       "      <th>1</th>\n",
       "      <td>98.0</td>\n",
       "      <td>24.7663</td>\n",
       "      <td>74.6090</td>\n",
       "      <td>1</td>\n",
       "      <td>2000.0</td>\n",
       "      <td>174</td>\n",
       "      <td>2</td>\n",
       "      <td>797.063475</td>\n",
       "      <td>805.760000</td>\n",
       "      <td>701.02725</td>\n",
       "      <td>716.728350</td>\n",
       "      <td>807.601700</td>\n",
       "    </tr>\n",
       "    <tr>\n",
       "      <th>2</th>\n",
       "      <td>39.2</td>\n",
       "      <td>21.9038</td>\n",
       "      <td>69.3732</td>\n",
       "      <td>7</td>\n",
       "      <td>2000.0</td>\n",
       "      <td>21</td>\n",
       "      <td>2</td>\n",
       "      <td>797.063475</td>\n",
       "      <td>805.760000</td>\n",
       "      <td>701.02725</td>\n",
       "      <td>716.728350</td>\n",
       "      <td>807.601700</td>\n",
       "    </tr>\n",
       "    <tr>\n",
       "      <th>3</th>\n",
       "      <td>135.0</td>\n",
       "      <td>23.8712</td>\n",
       "      <td>91.3602</td>\n",
       "      <td>2</td>\n",
       "      <td>2004.0</td>\n",
       "      <td>22</td>\n",
       "      <td>2</td>\n",
       "      <td>631.777928</td>\n",
       "      <td>617.789264</td>\n",
       "      <td>843.74700</td>\n",
       "      <td>886.004428</td>\n",
       "      <td>663.774500</td>\n",
       "    </tr>\n",
       "    <tr>\n",
       "      <th>4</th>\n",
       "      <td>1800.0</td>\n",
       "      <td>21.9603</td>\n",
       "      <td>82.4091</td>\n",
       "      <td>1</td>\n",
       "      <td>2015.0</td>\n",
       "      <td>22</td>\n",
       "      <td>2</td>\n",
       "      <td>1668.290000</td>\n",
       "      <td>3035.550000</td>\n",
       "      <td>5916.37000</td>\n",
       "      <td>6243.000000</td>\n",
       "      <td>5385.579736</td>\n",
       "    </tr>\n",
       "  </tbody>\n",
       "</table>\n",
       "</div>"
      ],
      "text/plain": [
       "   capacity_mw  latitude  longitude  primary_fuel  commissioning_year  source  \\\n",
       "0          2.5   28.1839    73.2407             6              2011.0     109   \n",
       "1         98.0   24.7663    74.6090             1              2000.0     174   \n",
       "2         39.2   21.9038    69.3732             7              2000.0      21   \n",
       "3        135.0   23.8712    91.3602             2              2004.0      22   \n",
       "4       1800.0   21.9603    82.4091             1              2015.0      22   \n",
       "\n",
       "   geolocation_source  generation_gwh_2013  generation_gwh_2014  \\\n",
       "0                   1           797.063475           805.760000   \n",
       "1                   2           797.063475           805.760000   \n",
       "2                   2           797.063475           805.760000   \n",
       "3                   2           631.777928           617.789264   \n",
       "4                   2          1668.290000          3035.550000   \n",
       "\n",
       "   generation_gwh_2015  generation_gwh_2016  generation_gwh_2017  \n",
       "0            701.02725           716.728350           807.601700  \n",
       "1            701.02725           716.728350           807.601700  \n",
       "2            701.02725           716.728350           807.601700  \n",
       "3            843.74700           886.004428           663.774500  \n",
       "4           5916.37000          6243.000000          5385.579736  "
      ]
     },
     "execution_count": 33,
     "metadata": {},
     "output_type": "execute_result"
    }
   ],
   "source": [
    "df.head()"
   ]
  },
  {
   "cell_type": "code",
   "execution_count": 34,
   "metadata": {},
   "outputs": [
    {
     "data": {
      "text/html": [
       "<div>\n",
       "<style scoped>\n",
       "    .dataframe tbody tr th:only-of-type {\n",
       "        vertical-align: middle;\n",
       "    }\n",
       "\n",
       "    .dataframe tbody tr th {\n",
       "        vertical-align: top;\n",
       "    }\n",
       "\n",
       "    .dataframe thead th {\n",
       "        text-align: right;\n",
       "    }\n",
       "</style>\n",
       "<table border=\"1\" class=\"dataframe\">\n",
       "  <thead>\n",
       "    <tr style=\"text-align: right;\">\n",
       "      <th></th>\n",
       "      <th>capacity_mw</th>\n",
       "      <th>latitude</th>\n",
       "      <th>longitude</th>\n",
       "      <th>primary_fuel</th>\n",
       "      <th>commissioning_year</th>\n",
       "      <th>source</th>\n",
       "      <th>geolocation_source</th>\n",
       "      <th>generation_gwh_2013</th>\n",
       "      <th>generation_gwh_2014</th>\n",
       "      <th>generation_gwh_2015</th>\n",
       "      <th>generation_gwh_2016</th>\n",
       "      <th>generation_gwh_2017</th>\n",
       "    </tr>\n",
       "  </thead>\n",
       "  <tbody>\n",
       "    <tr>\n",
       "      <th>capacity_mw</th>\n",
       "      <td>1.000000</td>\n",
       "      <td>0.047608</td>\n",
       "      <td>0.200473</td>\n",
       "      <td>-0.377783</td>\n",
       "      <td>0.215667</td>\n",
       "      <td>-0.241701</td>\n",
       "      <td>0.204698</td>\n",
       "      <td>0.756523</td>\n",
       "      <td>0.804581</td>\n",
       "      <td>0.830400</td>\n",
       "      <td>0.863989</td>\n",
       "      <td>0.877058</td>\n",
       "    </tr>\n",
       "    <tr>\n",
       "      <th>latitude</th>\n",
       "      <td>0.047608</td>\n",
       "      <td>1.000000</td>\n",
       "      <td>0.030775</td>\n",
       "      <td>-0.010793</td>\n",
       "      <td>0.084220</td>\n",
       "      <td>0.054346</td>\n",
       "      <td>-0.182049</td>\n",
       "      <td>0.053106</td>\n",
       "      <td>0.057527</td>\n",
       "      <td>0.052797</td>\n",
       "      <td>0.046684</td>\n",
       "      <td>0.056430</td>\n",
       "    </tr>\n",
       "    <tr>\n",
       "      <th>longitude</th>\n",
       "      <td>0.200473</td>\n",
       "      <td>0.030775</td>\n",
       "      <td>1.000000</td>\n",
       "      <td>-0.352749</td>\n",
       "      <td>0.035731</td>\n",
       "      <td>-0.236349</td>\n",
       "      <td>0.249233</td>\n",
       "      <td>0.102637</td>\n",
       "      <td>0.107967</td>\n",
       "      <td>0.125723</td>\n",
       "      <td>0.148405</td>\n",
       "      <td>0.156255</td>\n",
       "    </tr>\n",
       "    <tr>\n",
       "      <th>primary_fuel</th>\n",
       "      <td>-0.377783</td>\n",
       "      <td>-0.010793</td>\n",
       "      <td>-0.352749</td>\n",
       "      <td>1.000000</td>\n",
       "      <td>-0.065716</td>\n",
       "      <td>0.053609</td>\n",
       "      <td>-0.482803</td>\n",
       "      <td>-0.228761</td>\n",
       "      <td>-0.240407</td>\n",
       "      <td>-0.249826</td>\n",
       "      <td>-0.260900</td>\n",
       "      <td>-0.263818</td>\n",
       "    </tr>\n",
       "    <tr>\n",
       "      <th>commissioning_year</th>\n",
       "      <td>0.215667</td>\n",
       "      <td>0.084220</td>\n",
       "      <td>0.035731</td>\n",
       "      <td>-0.065716</td>\n",
       "      <td>1.000000</td>\n",
       "      <td>0.085523</td>\n",
       "      <td>-0.061057</td>\n",
       "      <td>0.052258</td>\n",
       "      <td>0.086131</td>\n",
       "      <td>0.118738</td>\n",
       "      <td>0.151269</td>\n",
       "      <td>0.164514</td>\n",
       "    </tr>\n",
       "    <tr>\n",
       "      <th>source</th>\n",
       "      <td>-0.241701</td>\n",
       "      <td>0.054346</td>\n",
       "      <td>-0.236349</td>\n",
       "      <td>0.053609</td>\n",
       "      <td>0.085523</td>\n",
       "      <td>1.000000</td>\n",
       "      <td>-0.505823</td>\n",
       "      <td>-0.121131</td>\n",
       "      <td>-0.125425</td>\n",
       "      <td>-0.131500</td>\n",
       "      <td>-0.136135</td>\n",
       "      <td>-0.135138</td>\n",
       "    </tr>\n",
       "    <tr>\n",
       "      <th>geolocation_source</th>\n",
       "      <td>0.204698</td>\n",
       "      <td>-0.182049</td>\n",
       "      <td>0.249233</td>\n",
       "      <td>-0.482803</td>\n",
       "      <td>-0.061057</td>\n",
       "      <td>-0.505823</td>\n",
       "      <td>1.000000</td>\n",
       "      <td>0.097530</td>\n",
       "      <td>0.100988</td>\n",
       "      <td>0.105880</td>\n",
       "      <td>0.109612</td>\n",
       "      <td>0.108809</td>\n",
       "    </tr>\n",
       "    <tr>\n",
       "      <th>generation_gwh_2013</th>\n",
       "      <td>0.756523</td>\n",
       "      <td>0.053106</td>\n",
       "      <td>0.102637</td>\n",
       "      <td>-0.228761</td>\n",
       "      <td>0.052258</td>\n",
       "      <td>-0.121131</td>\n",
       "      <td>0.097530</td>\n",
       "      <td>1.000000</td>\n",
       "      <td>0.970385</td>\n",
       "      <td>0.907385</td>\n",
       "      <td>0.878836</td>\n",
       "      <td>0.839297</td>\n",
       "    </tr>\n",
       "    <tr>\n",
       "      <th>generation_gwh_2014</th>\n",
       "      <td>0.804581</td>\n",
       "      <td>0.057527</td>\n",
       "      <td>0.107967</td>\n",
       "      <td>-0.240407</td>\n",
       "      <td>0.086131</td>\n",
       "      <td>-0.125425</td>\n",
       "      <td>0.100988</td>\n",
       "      <td>0.970385</td>\n",
       "      <td>1.000000</td>\n",
       "      <td>0.963664</td>\n",
       "      <td>0.935000</td>\n",
       "      <td>0.903986</td>\n",
       "    </tr>\n",
       "    <tr>\n",
       "      <th>generation_gwh_2015</th>\n",
       "      <td>0.830400</td>\n",
       "      <td>0.052797</td>\n",
       "      <td>0.125723</td>\n",
       "      <td>-0.249826</td>\n",
       "      <td>0.118738</td>\n",
       "      <td>-0.131500</td>\n",
       "      <td>0.105880</td>\n",
       "      <td>0.907385</td>\n",
       "      <td>0.963664</td>\n",
       "      <td>1.000000</td>\n",
       "      <td>0.973256</td>\n",
       "      <td>0.940284</td>\n",
       "    </tr>\n",
       "    <tr>\n",
       "      <th>generation_gwh_2016</th>\n",
       "      <td>0.863989</td>\n",
       "      <td>0.046684</td>\n",
       "      <td>0.148405</td>\n",
       "      <td>-0.260900</td>\n",
       "      <td>0.151269</td>\n",
       "      <td>-0.136135</td>\n",
       "      <td>0.109612</td>\n",
       "      <td>0.878836</td>\n",
       "      <td>0.935000</td>\n",
       "      <td>0.973256</td>\n",
       "      <td>1.000000</td>\n",
       "      <td>0.973960</td>\n",
       "    </tr>\n",
       "    <tr>\n",
       "      <th>generation_gwh_2017</th>\n",
       "      <td>0.877058</td>\n",
       "      <td>0.056430</td>\n",
       "      <td>0.156255</td>\n",
       "      <td>-0.263818</td>\n",
       "      <td>0.164514</td>\n",
       "      <td>-0.135138</td>\n",
       "      <td>0.108809</td>\n",
       "      <td>0.839297</td>\n",
       "      <td>0.903986</td>\n",
       "      <td>0.940284</td>\n",
       "      <td>0.973960</td>\n",
       "      <td>1.000000</td>\n",
       "    </tr>\n",
       "  </tbody>\n",
       "</table>\n",
       "</div>"
      ],
      "text/plain": [
       "                     capacity_mw  latitude  longitude  primary_fuel  \\\n",
       "capacity_mw             1.000000  0.047608   0.200473     -0.377783   \n",
       "latitude                0.047608  1.000000   0.030775     -0.010793   \n",
       "longitude               0.200473  0.030775   1.000000     -0.352749   \n",
       "primary_fuel           -0.377783 -0.010793  -0.352749      1.000000   \n",
       "commissioning_year      0.215667  0.084220   0.035731     -0.065716   \n",
       "source                 -0.241701  0.054346  -0.236349      0.053609   \n",
       "geolocation_source      0.204698 -0.182049   0.249233     -0.482803   \n",
       "generation_gwh_2013     0.756523  0.053106   0.102637     -0.228761   \n",
       "generation_gwh_2014     0.804581  0.057527   0.107967     -0.240407   \n",
       "generation_gwh_2015     0.830400  0.052797   0.125723     -0.249826   \n",
       "generation_gwh_2016     0.863989  0.046684   0.148405     -0.260900   \n",
       "generation_gwh_2017     0.877058  0.056430   0.156255     -0.263818   \n",
       "\n",
       "                     commissioning_year    source  geolocation_source  \\\n",
       "capacity_mw                    0.215667 -0.241701            0.204698   \n",
       "latitude                       0.084220  0.054346           -0.182049   \n",
       "longitude                      0.035731 -0.236349            0.249233   \n",
       "primary_fuel                  -0.065716  0.053609           -0.482803   \n",
       "commissioning_year             1.000000  0.085523           -0.061057   \n",
       "source                         0.085523  1.000000           -0.505823   \n",
       "geolocation_source            -0.061057 -0.505823            1.000000   \n",
       "generation_gwh_2013            0.052258 -0.121131            0.097530   \n",
       "generation_gwh_2014            0.086131 -0.125425            0.100988   \n",
       "generation_gwh_2015            0.118738 -0.131500            0.105880   \n",
       "generation_gwh_2016            0.151269 -0.136135            0.109612   \n",
       "generation_gwh_2017            0.164514 -0.135138            0.108809   \n",
       "\n",
       "                     generation_gwh_2013  generation_gwh_2014  \\\n",
       "capacity_mw                     0.756523             0.804581   \n",
       "latitude                        0.053106             0.057527   \n",
       "longitude                       0.102637             0.107967   \n",
       "primary_fuel                   -0.228761            -0.240407   \n",
       "commissioning_year              0.052258             0.086131   \n",
       "source                         -0.121131            -0.125425   \n",
       "geolocation_source              0.097530             0.100988   \n",
       "generation_gwh_2013             1.000000             0.970385   \n",
       "generation_gwh_2014             0.970385             1.000000   \n",
       "generation_gwh_2015             0.907385             0.963664   \n",
       "generation_gwh_2016             0.878836             0.935000   \n",
       "generation_gwh_2017             0.839297             0.903986   \n",
       "\n",
       "                     generation_gwh_2015  generation_gwh_2016  \\\n",
       "capacity_mw                     0.830400             0.863989   \n",
       "latitude                        0.052797             0.046684   \n",
       "longitude                       0.125723             0.148405   \n",
       "primary_fuel                   -0.249826            -0.260900   \n",
       "commissioning_year              0.118738             0.151269   \n",
       "source                         -0.131500            -0.136135   \n",
       "geolocation_source              0.105880             0.109612   \n",
       "generation_gwh_2013             0.907385             0.878836   \n",
       "generation_gwh_2014             0.963664             0.935000   \n",
       "generation_gwh_2015             1.000000             0.973256   \n",
       "generation_gwh_2016             0.973256             1.000000   \n",
       "generation_gwh_2017             0.940284             0.973960   \n",
       "\n",
       "                     generation_gwh_2017  \n",
       "capacity_mw                     0.877058  \n",
       "latitude                        0.056430  \n",
       "longitude                       0.156255  \n",
       "primary_fuel                   -0.263818  \n",
       "commissioning_year              0.164514  \n",
       "source                         -0.135138  \n",
       "geolocation_source              0.108809  \n",
       "generation_gwh_2013             0.839297  \n",
       "generation_gwh_2014             0.903986  \n",
       "generation_gwh_2015             0.940284  \n",
       "generation_gwh_2016             0.973960  \n",
       "generation_gwh_2017             1.000000  "
      ]
     },
     "execution_count": 34,
     "metadata": {},
     "output_type": "execute_result"
    }
   ],
   "source": [
    "df.corr()"
   ]
  },
  {
   "cell_type": "code",
   "execution_count": 36,
   "metadata": {},
   "outputs": [
    {
     "name": "stdout",
     "output_type": "stream",
     "text": [
      "capacity_mw\n"
     ]
    },
    {
     "data": {
      "image/png": "[encoded data removed]",
      "text/plain": [
       "<Figure size 432x288 with 1 Axes>"
      ]
     },
     "metadata": {
      "needs_background": "light"
     },
     "output_type": "display_data"
    },
    {
     "name": "stdout",
     "output_type": "stream",
     "text": [
      "latitude\n"
     ]
    },
    {
     "data": {
      "image/png": "[encoded data removed]",
      "text/plain": [
       "<Figure size 432x288 with 1 Axes>"
      ]
     },
     "metadata": {
      "needs_background": "light"
     },
     "output_type": "display_data"
    },
    {
     "name": "stdout",
     "output_type": "stream",
     "text": [
      "longitude\n"
     ]
    },
    {
     "data": {
      "image/png": "[encoded data removed]",
      "text/plain": [
       "<Figure size 432x288 with 1 Axes>"
      ]
     },
     "metadata": {
      "needs_background": "light"
     },
     "output_type": "display_data"
    },
    {
     "name": "stdout",
     "output_type": "stream",
     "text": [
      "primary_fuel\n"
     ]
    },
    {
     "data": {
      "image/png": "[encoded data removed]",
      "text/plain": [
       "<Figure size 432x288 with 1 Axes>"
      ]
     },
     "metadata": {
      "needs_background": "light"
     },
     "output_type": "display_data"
    },
    {
     "name": "stdout",
     "output_type": "stream",
     "text": [
      "commissioning_year\n"
     ]
    },
    {
     "data": {
      "image/png": "[encoded data removed]",
      "text/plain": [
       "<Figure size 432x288 with 1 Axes>"
      ]
     },
     "metadata": {
      "needs_background": "light"
     },
     "output_type": "display_data"
    },
    {
     "name": "stdout",
     "output_type": "stream",
     "text": [
      "source\n"
     ]
    },
    {
     "data": {
      "image/png": "[encoded data removed]",
      "text/plain": [
       "<Figure size 432x288 with 1 Axes>"
      ]
     },
     "metadata": {
      "needs_background": "light"
     },
     "output_type": "display_data"
    },
    {
     "name": "stdout",
     "output_type": "stream",
     "text": [
      "geolocation_source\n"
     ]
    },
    {
     "data": {
      "image/png": "[encoded data removed]",
      "text/plain": [
       "<Figure size 432x288 with 1 Axes>"
      ]
     },
     "metadata": {
      "needs_background": "light"
     },
     "output_type": "display_data"
    },
    {
     "name": "stdout",
     "output_type": "stream",
     "text": [
      "generation_gwh_2013\n"
     ]
    },
    {
     "data": {
      "image/png": "[encoded data removed]",
      "text/plain": [
       "<Figure size 432x288 with 1 Axes>"
      ]
     },
     "metadata": {
      "needs_background": "light"
     },
     "output_type": "display_data"
    },
    {
     "name": "stdout",
     "output_type": "stream",
     "text": [
      "generation_gwh_2014\n"
     ]
    },
    {
     "data": {
      "image/png": "[encoded data removed]",
      "text/plain": [
       "<Figure size 432x288 with 1 Axes>"
      ]
     },
     "metadata": {
      "needs_background": "light"
     },
     "output_type": "display_data"
    },
    {
     "name": "stdout",
     "output_type": "stream",
     "text": [
      "generation_gwh_2015\n"
     ]
    },
    {
     "data": {
      "image/png": "[encoded data removed]",
      "text/plain": [
       "<Figure size 432x288 with 1 Axes>"
      ]
     },
     "metadata": {
      "needs_background": "light"
     },
     "output_type": "display_data"
    },
    {
     "name": "stdout",
     "output_type": "stream",
     "text": [
      "generation_gwh_2016\n"
     ]
    },
    {
     "data": {
      "image/png": "[encoded data removed]",
      "text/plain": [
       "<Figure size 432x288 with 1 Axes>"
      ]
     },
     "metadata": {
      "needs_background": "light"
     },
     "output_type": "display_data"
    },
    {
     "name": "stdout",
     "output_type": "stream",
     "text": [
      "generation_gwh_2017\n"
     ]
    },
    {
     "data": {
      "image/png": "[encoded data removed]",
      "text/plain": [
       "<Figure size 432x288 with 1 Axes>"
      ]
     },
     "metadata": {
      "needs_background": "light"
     },
     "output_type": "display_data"
    }
   ],
   "source": [
    "#checking for skewness and outliers in the columns by plloting bar\n",
    "for columns in df:\n",
    "    print(columns)\n",
    "    sns.distplot(df[columns])\n",
    "    plt.show()"
   ]
  },
  {
   "cell_type": "code",
   "execution_count": 37,
   "metadata": {},
   "outputs": [],
   "source": [
    "# removing outliers\n",
    "import numpy as np\n",
    "\n",
    "z=np.abs(zscore(df))\n",
    "df_new= df[(z<3).all(axis = 1)]"
   ]
  },
  {
   "cell_type": "code",
   "execution_count": 38,
   "metadata": {},
   "outputs": [
    {
     "data": {
      "text/plain": [
       "(908, 12)"
      ]
     },
     "execution_count": 38,
     "metadata": {},
     "output_type": "execute_result"
    }
   ],
   "source": [
    "df.shape"
   ]
  },
  {
   "cell_type": "code",
   "execution_count": 39,
   "metadata": {},
   "outputs": [
    {
     "data": {
      "text/plain": [
       "(833, 12)"
      ]
     },
     "execution_count": 39,
     "metadata": {},
     "output_type": "execute_result"
    }
   ],
   "source": [
    "df_new.shape"
   ]
  },
  {
   "cell_type": "code",
   "execution_count": 40,
   "metadata": {},
   "outputs": [],
   "source": [
    "df=df_new"
   ]
  },
  {
   "cell_type": "code",
   "execution_count": 41,
   "metadata": {},
   "outputs": [
    {
     "data": {
      "text/plain": [
       "capacity_mw            1.961847\n",
       "latitude              -0.126512\n",
       "longitude              0.883761\n",
       "primary_fuel           0.409668\n",
       "commissioning_year    -1.199857\n",
       "source                 1.782665\n",
       "geolocation_source    -2.102192\n",
       "generation_gwh_2013    3.058127\n",
       "generation_gwh_2014    2.910898\n",
       "generation_gwh_2015    2.699657\n",
       "generation_gwh_2016    2.645103\n",
       "generation_gwh_2017    2.540739\n",
       "dtype: float64"
      ]
     },
     "execution_count": 41,
     "metadata": {},
     "output_type": "execute_result"
    }
   ],
   "source": [
    "df.skew()"
   ]
  },
  {
   "cell_type": "code",
   "execution_count": 42,
   "metadata": {},
   "outputs": [],
   "source": [
    "#splitting the data\n",
    "x = df.drop('capacity_mw',axis =1)\n",
    "y = df['capacity_mw']"
   ]
  },
  {
   "cell_type": "code",
   "execution_count": 43,
   "metadata": {},
   "outputs": [],
   "source": [
    "#scalling the data using standard scaler\n",
    "from sklearn.preprocessing import StandardScaler\n",
    "\n",
    "sc=StandardScaler()\n",
    "sc.fit_transform(x)\n",
    "x= pd.DataFrame(x,columns=x.columns)"
   ]
  },
  {
   "cell_type": "code",
   "execution_count": 44,
   "metadata": {},
   "outputs": [
    {
     "data": {
      "text/plain": [
       "(833, 11)"
      ]
     },
     "execution_count": 44,
     "metadata": {},
     "output_type": "execute_result"
    }
   ],
   "source": [
    "x.shape"
   ]
  },
  {
   "cell_type": "code",
   "execution_count": 45,
   "metadata": {},
   "outputs": [
    {
     "data": {
      "text/plain": [
       "(833,)"
      ]
     },
     "execution_count": 45,
     "metadata": {},
     "output_type": "execute_result"
    }
   ],
   "source": [
    "y.shape"
   ]
  },
  {
   "cell_type": "code",
   "execution_count": 46,
   "metadata": {},
   "outputs": [],
   "source": [
    "from sklearn.metrics import mean_squared_error,mean_absolute_error\n",
    "from sklearn.metrics import r2_score\n",
    "from sklearn.model_selection import train_test_split\n",
    "from sklearn.model_selection import cross_val_score"
   ]
  },
  {
   "cell_type": "code",
   "execution_count": 48,
   "metadata": {},
   "outputs": [
    {
     "name": "stdout",
     "output_type": "stream",
     "text": [
      "when random state is  [1] train accuracy is  {0.6880643542923965}\n",
      "when random state is  [1] test accuracy is  {0.774057416851208}\n",
      "\n",
      "\n",
      "when random state is  [2] train accuracy is  {0.7215799849775495}\n",
      "when random state is  [2] test accuracy is  {0.6588883098782452}\n",
      "\n",
      "\n",
      "when random state is  [3] train accuracy is  {0.7442325973326978}\n",
      "when random state is  [3] test accuracy is  {0.6010246825611016}\n",
      "\n",
      "\n",
      "when random state is  [4] train accuracy is  {0.7280643889667704}\n",
      "when random state is  [4] test accuracy is  {0.6316117417156377}\n",
      "\n",
      "\n",
      "when random state is  [5] train accuracy is  {0.7037501687127552}\n",
      "when random state is  [5] test accuracy is  {0.7256107052889749}\n",
      "\n",
      "\n",
      "when random state is  [6] train accuracy is  {0.7120711270615456}\n",
      "when random state is  [6] test accuracy is  {0.6920966470713159}\n",
      "\n",
      "\n",
      "when random state is  [7] train accuracy is  {0.7306270008391287}\n",
      "when random state is  [7] test accuracy is  {0.6307433583898614}\n",
      "\n",
      "\n",
      "when random state is  [8] train accuracy is  {0.6976853774566113}\n",
      "when random state is  [8] test accuracy is  {0.7453832489956251}\n",
      "\n",
      "\n",
      "when random state is  [9] train accuracy is  {0.7094224568357663}\n",
      "when random state is  [9] test accuracy is  {0.6882832962761798}\n",
      "\n",
      "\n",
      "when random state is  [10] train accuracy is  {0.6921941908138485}\n",
      "when random state is  [10] test accuracy is  {0.7635053372694547}\n",
      "\n",
      "\n",
      "when random state is  [11] train accuracy is  {0.7189935823491375}\n",
      "when random state is  [11] test accuracy is  {0.6783879191349906}\n",
      "\n",
      "\n",
      "when random state is  [12] train accuracy is  {0.6927866657086075}\n",
      "when random state is  [12] test accuracy is  {0.7491852088786868}\n",
      "\n",
      "\n",
      "when random state is  [13] train accuracy is  {0.7006813530283178}\n",
      "when random state is  [13] test accuracy is  {0.715053066085118}\n",
      "\n",
      "\n",
      "when random state is  [14] train accuracy is  {0.7139702816187004}\n",
      "when random state is  [14] test accuracy is  {0.6891968663028658}\n",
      "\n",
      "\n",
      "when random state is  [15] train accuracy is  {0.7137824458067206}\n",
      "when random state is  [15] test accuracy is  {0.6900195166560881}\n",
      "\n",
      "\n",
      "when random state is  [16] train accuracy is  {0.7177591667638232}\n",
      "when random state is  [16] test accuracy is  {0.6755698595425125}\n",
      "\n",
      "\n",
      "when random state is  [17] train accuracy is  {0.7138364646726001}\n",
      "when random state is  [17] test accuracy is  {0.6802114292832415}\n",
      "\n",
      "\n",
      "when random state is  [18] train accuracy is  {0.7230498914384544}\n",
      "when random state is  [18] test accuracy is  {0.6639108040413961}\n",
      "\n",
      "\n",
      "when random state is  [19] train accuracy is  {0.7436073184242349}\n",
      "when random state is  [19] test accuracy is  {0.6050248756775742}\n",
      "\n",
      "\n",
      "when random state is  [20] train accuracy is  {0.725951869392559}\n",
      "when random state is  [20] test accuracy is  {0.6522133675969848}\n",
      "\n",
      "\n",
      "when random state is  [21] train accuracy is  {0.7093818562747027}\n",
      "when random state is  [21] test accuracy is  {0.7084658608427417}\n",
      "\n",
      "\n",
      "when random state is  [22] train accuracy is  {0.7026855000241918}\n",
      "when random state is  [22] test accuracy is  {0.7268851166680335}\n",
      "\n",
      "\n",
      "when random state is  [23] train accuracy is  {0.7119187523333783}\n",
      "when random state is  [23] test accuracy is  {0.7014731485693813}\n",
      "\n",
      "\n",
      "when random state is  [24] train accuracy is  {0.7038372131427653}\n",
      "when random state is  [24] test accuracy is  {0.7144860035249355}\n",
      "\n",
      "\n",
      "when random state is  [25] train accuracy is  {0.6681039689931187}\n",
      "when random state is  [25] test accuracy is  {0.8044856770706668}\n",
      "\n",
      "\n",
      "when random state is  [26] train accuracy is  {0.6893805930506907}\n",
      "when random state is  [26] test accuracy is  {0.7541390060300803}\n",
      "\n",
      "\n",
      "when random state is  [27] train accuracy is  {0.7003377686144932}\n",
      "when random state is  [27] test accuracy is  {0.7369798964092922}\n",
      "\n",
      "\n",
      "when random state is  [28] train accuracy is  {0.6946831407288556}\n",
      "when random state is  [28] test accuracy is  {0.7508332682687962}\n",
      "\n",
      "\n",
      "when random state is  [29] train accuracy is  {0.7079586265116524}\n",
      "when random state is  [29] test accuracy is  {0.7087606956254522}\n",
      "\n",
      "\n",
      "when random state is  [30] train accuracy is  {0.7072946639025828}\n",
      "when random state is  [30] test accuracy is  {0.7142130742474506}\n",
      "\n",
      "\n",
      "when random state is  [31] train accuracy is  {0.6942160191110905}\n",
      "when random state is  [31] test accuracy is  {0.7484749081221345}\n",
      "\n",
      "\n",
      "when random state is  [32] train accuracy is  {0.7069859924375288}\n",
      "when random state is  [32] test accuracy is  {0.7022259200753725}\n",
      "\n",
      "\n",
      "when random state is  [33] train accuracy is  {0.6825238481532578}\n",
      "when random state is  [33] test accuracy is  {0.7794154738231618}\n",
      "\n",
      "\n",
      "when random state is  [34] train accuracy is  {0.712168752553772}\n",
      "when random state is  [34] test accuracy is  {0.6916215904668497}\n",
      "\n",
      "\n",
      "when random state is  [35] train accuracy is  {0.724231830231242}\n",
      "when random state is  [35] test accuracy is  {0.6684009160025299}\n",
      "\n",
      "\n",
      "when random state is  [36] train accuracy is  {0.7055007522507761}\n",
      "when random state is  [36] test accuracy is  {0.7086094775868974}\n",
      "\n",
      "\n",
      "when random state is  [37] train accuracy is  {0.6942573412790418}\n",
      "when random state is  [37] test accuracy is  {0.7422270535194317}\n",
      "\n",
      "\n",
      "when random state is  [38] train accuracy is  {0.7104907168486738}\n",
      "when random state is  [38] test accuracy is  {0.7043407500444598}\n",
      "\n",
      "\n",
      "when random state is  [39] train accuracy is  {0.7006138628199661}\n",
      "when random state is  [39] test accuracy is  {0.7344058550834671}\n",
      "\n",
      "\n",
      "when random state is  [40] train accuracy is  {0.7098609788698892}\n",
      "when random state is  [40] test accuracy is  {0.7029119172905653}\n",
      "\n",
      "\n",
      "when random state is  [41] train accuracy is  {0.7175973834188268}\n",
      "when random state is  [41] test accuracy is  {0.6830914313058086}\n",
      "\n",
      "\n",
      "when random state is  [42] train accuracy is  {0.6944705033522443}\n",
      "when random state is  [42] test accuracy is  {0.7574310957285597}\n",
      "\n",
      "\n",
      "when random state is  [43] train accuracy is  {0.7139037756268768}\n",
      "when random state is  [43] test accuracy is  {0.6802763371930354}\n",
      "\n",
      "\n",
      "when random state is  [44] train accuracy is  {0.7184121091155087}\n",
      "when random state is  [44] test accuracy is  {0.6791864461047921}\n",
      "\n",
      "\n",
      "when random state is  [45] train accuracy is  {0.7719396406912679}\n",
      "when random state is  [45] test accuracy is  {0.5467531769382354}\n",
      "\n",
      "\n",
      "when random state is  [46] train accuracy is  {0.7188936148344458}\n",
      "when random state is  [46] test accuracy is  {0.6668468238516128}\n",
      "\n",
      "\n",
      "when random state is  [47] train accuracy is  {0.7051373222959862}\n",
      "when random state is  [47] test accuracy is  {0.7235024293266691}\n",
      "\n",
      "\n",
      "when random state is  [48] train accuracy is  {0.7416517085953023}\n",
      "when random state is  [48] test accuracy is  {0.61425587854205}\n",
      "\n",
      "\n",
      "when random state is  [49] train accuracy is  {0.7084018118227049}\n",
      "when random state is  [49] test accuracy is  {0.7047413626999592}\n",
      "\n",
      "\n",
      "when random state is  [50] train accuracy is  {0.7109324876936781}\n",
      "when random state is  [50] test accuracy is  {0.6824208047995317}\n",
      "\n",
      "\n",
      "when random state is  [51] train accuracy is  {0.6792895306806861}\n",
      "when random state is  [51] test accuracy is  {0.7662230565833206}\n",
      "\n",
      "\n",
      "when random state is  [52] train accuracy is  {0.7181685850561723}\n",
      "when random state is  [52] test accuracy is  {0.6805075789347548}\n",
      "\n",
      "\n",
      "when random state is  [53] train accuracy is  {0.6884770016429206}\n",
      "when random state is  [53] test accuracy is  {0.7926770008336257}\n",
      "\n",
      "\n",
      "when random state is  [54] train accuracy is  {0.7021159316379963}\n",
      "when random state is  [54] test accuracy is  {0.7208949946441398}\n",
      "\n",
      "\n",
      "when random state is  [55] train accuracy is  {0.7183649914291331}\n",
      "when random state is  [55] test accuracy is  {0.6739869039701565}\n",
      "\n",
      "\n",
      "when random state is  [56] train accuracy is  {0.7195577071204966}\n",
      "when random state is  [56] test accuracy is  {0.6505729105313971}\n",
      "\n",
      "\n",
      "when random state is  [57] train accuracy is  {0.6897838069318531}\n",
      "when random state is  [57] test accuracy is  {0.7453759516170708}\n",
      "\n",
      "\n",
      "when random state is  [58] train accuracy is  {0.7088560897211795}\n",
      "when random state is  [58] test accuracy is  {0.7085074277781946}\n",
      "\n",
      "\n",
      "when random state is  [59] train accuracy is  {0.707717736792773}\n",
      "when random state is  [59] test accuracy is  {0.6997427720365944}\n",
      "\n",
      "\n",
      "when random state is  [60] train accuracy is  {0.7177138274584436}\n",
      "when random state is  [60] test accuracy is  {0.6825232169038582}\n",
      "\n",
      "\n",
      "when random state is  [61] train accuracy is  {0.698468048692553}\n",
      "when random state is  [61] test accuracy is  {0.735565147462661}\n",
      "\n",
      "\n",
      "when random state is  [62] train accuracy is  {0.7356603327225086}\n",
      "when random state is  [62] test accuracy is  {0.6216804427019713}\n",
      "\n",
      "\n",
      "when random state is  [63] train accuracy is  {0.7010532117741345}\n",
      "when random state is  [63] test accuracy is  {0.728025632483992}\n",
      "\n",
      "\n",
      "when random state is  [64] train accuracy is  {0.6956872991358034}\n",
      "when random state is  [64] test accuracy is  {0.7342270200760581}\n",
      "\n",
      "\n",
      "when random state is  [65] train accuracy is  {0.695671480260927}\n",
      "when random state is  [65] test accuracy is  {0.7476848098220212}\n",
      "\n",
      "\n",
      "when random state is  [66] train accuracy is  {0.6952016119229806}\n",
      "when random state is  [66] test accuracy is  {0.746343522561374}\n",
      "\n",
      "\n",
      "when random state is  [67] train accuracy is  {0.6815328730072753}\n",
      "when random state is  [67] test accuracy is  {0.7742764429011589}\n",
      "\n",
      "\n",
      "when random state is  [68] train accuracy is  {0.7326760495027229}\n",
      "when random state is  [68] test accuracy is  {0.614061752141154}\n",
      "\n",
      "\n",
      "when random state is  [69] train accuracy is  {0.7290004337982627}\n",
      "when random state is  [69] test accuracy is  {0.6285192855761885}\n",
      "\n",
      "\n",
      "when random state is  [70] train accuracy is  {0.6978391437609337}\n",
      "when random state is  [70] test accuracy is  {0.7360329248742294}\n",
      "\n",
      "\n",
      "when random state is  [71] train accuracy is  {0.7025622476280029}\n",
      "when random state is  [71] test accuracy is  {0.7267274000375892}\n",
      "\n",
      "\n",
      "when random state is  [72] train accuracy is  {0.7258631508243429}\n",
      "when random state is  [72] test accuracy is  {0.6643912748332841}\n",
      "\n",
      "\n",
      "when random state is  [73] train accuracy is  {0.6966169980069781}\n",
      "when random state is  [73] test accuracy is  {0.7427171619038798}\n",
      "\n",
      "\n",
      "when random state is  [74] train accuracy is  {0.7040765686183904}\n",
      "when random state is  [74] test accuracy is  {0.7179247743326}\n",
      "\n",
      "\n",
      "when random state is  [75] train accuracy is  {0.6848353012543595}\n",
      "when random state is  [75] test accuracy is  {0.7591823271240778}\n",
      "\n",
      "\n",
      "when random state is  [76] train accuracy is  {0.6873032738329388}\n",
      "when random state is  [76] test accuracy is  {0.7563000743851244}\n",
      "\n",
      "\n",
      "when random state is  [77] train accuracy is  {0.7583693986839007}\n",
      "when random state is  [77] test accuracy is  {0.5388335452354335}\n",
      "\n",
      "\n",
      "when random state is  [78] train accuracy is  {0.6885012037894627}\n",
      "when random state is  [78] test accuracy is  {0.7721798443837022}\n",
      "\n",
      "\n",
      "when random state is  [79] train accuracy is  {0.720934183964095}\n",
      "when random state is  [79] test accuracy is  {0.6740849774285458}\n",
      "\n",
      "\n",
      "when random state is  [80] train accuracy is  {0.7114722542340739}\n",
      "when random state is  [80] test accuracy is  {0.7023918324715768}\n",
      "\n",
      "\n",
      "when random state is  [81] train accuracy is  {0.7050314737936059}\n",
      "when random state is  [81] test accuracy is  {0.7162499683995713}\n",
      "\n",
      "\n",
      "when random state is  [82] train accuracy is  {0.7198884282326127}\n",
      "when random state is  [82] test accuracy is  {0.6715882832761272}\n",
      "\n",
      "\n",
      "when random state is  [83] train accuracy is  {0.7391047307630352}\n",
      "when random state is  [83] test accuracy is  {0.6300091959884551}\n",
      "\n",
      "\n",
      "when random state is  [84] train accuracy is  {0.7120606526117389}\n",
      "when random state is  [84] test accuracy is  {0.6987418785183983}\n",
      "\n",
      "\n",
      "when random state is  [85] train accuracy is  {0.7088518770651047}\n",
      "when random state is  [85] test accuracy is  {0.7000350410904446}\n",
      "\n",
      "\n",
      "when random state is  [86] train accuracy is  {0.7053474530596497}\n",
      "when random state is  [86] test accuracy is  {0.7133379490272288}\n",
      "\n",
      "\n",
      "when random state is  [87] train accuracy is  {0.7067158961043736}\n",
      "when random state is  [87] test accuracy is  {0.7157160832740967}\n",
      "\n",
      "\n",
      "when random state is  [88] train accuracy is  {0.7180733495002317}\n",
      "when random state is  [88] test accuracy is  {0.6751993430311742}\n",
      "\n",
      "\n",
      "when random state is  [89] train accuracy is  {0.7190226654538873}\n",
      "when random state is  [89] test accuracy is  {0.6815178608292581}\n",
      "\n",
      "\n",
      "when random state is  [90] train accuracy is  {0.720535010440633}\n",
      "when random state is  [90] test accuracy is  {0.6761637038742769}\n",
      "\n",
      "\n",
      "when random state is  [91] train accuracy is  {0.7155723643862246}\n",
      "when random state is  [91] test accuracy is  {0.6888273564430173}\n",
      "\n",
      "\n",
      "when random state is  [92] train accuracy is  {0.7030938709084801}\n",
      "when random state is  [92] test accuracy is  {0.7097643984379884}\n",
      "\n",
      "\n",
      "when random state is  [93] train accuracy is  {0.7346419634278586}\n",
      "when random state is  [93] test accuracy is  {0.6253569363378241}\n",
      "\n",
      "\n",
      "when random state is  [94] train accuracy is  {0.7177813188170684}\n",
      "when random state is  [94] test accuracy is  {0.6744169754395897}\n",
      "\n",
      "\n",
      "when random state is  [95] train accuracy is  {0.7416217297453087}\n",
      "when random state is  [95] test accuracy is  {0.6004701702680924}\n",
      "\n",
      "\n",
      "when random state is  [96] train accuracy is  {0.7036168663297229}\n",
      "when random state is  [96] test accuracy is  {0.7109277357924905}\n",
      "\n",
      "\n",
      "when random state is  [97] train accuracy is  {0.7130493833410402}\n",
      "when random state is  [97] test accuracy is  {0.6950979394044132}\n",
      "\n",
      "\n",
      "when random state is  [98] train accuracy is  {0.7299013108789056}\n",
      "when random state is  [98] test accuracy is  {0.6483972371656868}\n",
      "\n",
      "\n",
      "when random state is  [99] train accuracy is  {0.7017749790619292}\n",
      "when random state is  [99] test accuracy is  {0.7405150095506977}\n",
      "\n",
      "\n"
     ]
    }
   ],
   "source": [
    "#train the model\n",
    "from sklearn.linear_model import LinearRegression\n",
    "\n",
    "for i in range(1,100):\n",
    "    x_train,x_test,y_train,y_test= train_test_split(x,y,test_size=0.25,random_state=i)\n",
    "    lr= LinearRegression()\n",
    "    lr.fit(x_train,y_train)\n",
    "    pred=lr.predict(x_test)\n",
    "    pred_t=lr.predict(x_train)\n",
    "    \n",
    "    print('when random state is ',[i],'train accuracy is ',{r2_score(y_train,pred_t)})\n",
    "    print('when random state is ',[i],'test accuracy is ',{r2_score(y_test,pred)})\n",
    "    print('\\n')"
   ]
  },
  {
   "cell_type": "markdown",
   "metadata": {},
   "source": [
    "best random state is 99 coz its gives best aacuracy"
   ]
  },
  {
   "cell_type": "code",
   "execution_count": 49,
   "metadata": {},
   "outputs": [],
   "source": [
    "x_train,x_test,y_train,y_test= train_test_split(x,y,test_size=0.25,random_state=99)"
   ]
  },
  {
   "cell_type": "code",
   "execution_count": 50,
   "metadata": {},
   "outputs": [
    {
     "name": "stdout",
     "output_type": "stream",
     "text": [
      "r2_score is 0.7017749790619292\n"
     ]
    }
   ],
   "source": [
    "#getting best r2 score using linear regression\n",
    "from sklearn.linear_model import LinearRegression\n",
    "\n",
    "\n",
    "lr=LinearRegression()\n",
    "lr.fit(x_train,y_train)\n",
    "print('r2_score is',lr.score(x_train,y_train))\n",
    "pred=lr.predict(x_test)"
   ]
  },
  {
   "cell_type": "code",
   "execution_count": 51,
   "metadata": {},
   "outputs": [
    {
     "name": "stdout",
     "output_type": "stream",
     "text": [
      "cross val score is  0.6868787398207202\n"
     ]
    }
   ],
   "source": [
    "#cross validation of the best r2 score\n",
    "from sklearn.model_selection import cross_val_score\n",
    "\n",
    "cvs=cross_val_score(lr,x,y,cv=5)\n",
    "print('cross val score is ',cvs.mean())"
   ]
  },
  {
   "cell_type": "code",
   "execution_count": 52,
   "metadata": {},
   "outputs": [
    {
     "name": "stdout",
     "output_type": "stream",
     "text": [
      "r2_score is 0.969345474134799\n"
     ]
    }
   ],
   "source": [
    "#getting best r2 score using Random Forest Regressor\n",
    "from sklearn.ensemble import RandomForestRegressor\n",
    "\n",
    "rfr=RandomForestRegressor()\n",
    "rfr.fit(x_train,y_train)\n",
    "print('r2_score is',rfr.score(x_train,y_train))\n",
    "pred=rfr.predict(x_test)"
   ]
  },
  {
   "cell_type": "code",
   "execution_count": 53,
   "metadata": {},
   "outputs": [
    {
     "name": "stdout",
     "output_type": "stream",
     "text": [
      "cross val score is  0.7764046131544452\n"
     ]
    }
   ],
   "source": [
    "#cross validation of the best r2 score\n",
    "\n",
    "cvs=cross_val_score(rfr,x,y,cv=5)\n",
    "print('cross val score is ',cvs.mean())"
   ]
  },
  {
   "cell_type": "code",
   "execution_count": 54,
   "metadata": {},
   "outputs": [
    {
     "name": "stdout",
     "output_type": "stream",
     "text": [
      "r2_score is 0.9998642045269078\n"
     ]
    }
   ],
   "source": [
    "#getting best r2 score using Random Forest Regressor\n",
    "from sklearn.tree import DecisionTreeRegressor\n",
    "\n",
    "dtr=DecisionTreeRegressor()\n",
    "dtr.fit(x_train,y_train)\n",
    "print('r2_score is',dtr.score(x_train,y_train))\n",
    "pred=dtr.predict(x_test)"
   ]
  },
  {
   "cell_type": "code",
   "execution_count": 55,
   "metadata": {},
   "outputs": [
    {
     "name": "stdout",
     "output_type": "stream",
     "text": [
      "cross val score is  0.6350789327682207\n"
     ]
    }
   ],
   "source": [
    "#cross validation of the best r2 score\n",
    "cvs=cross_val_score(dtr,x,y,cv=5)\n",
    "print('cross val score is ',cvs.mean())"
   ]
  },
  {
   "cell_type": "code",
   "execution_count": 56,
   "metadata": {},
   "outputs": [
    {
     "name": "stdout",
     "output_type": "stream",
     "text": [
      "r2_score is -0.08729266377720069\n"
     ]
    }
   ],
   "source": [
    "#getting best r2 score using support vector regressor\n",
    "from sklearn.svm import SVR\n",
    "\n",
    "svr=SVR()\n",
    "svr.fit(x_train,y_train)\n",
    "print('r2_score is',svr.score(x_train,y_train))\n",
    "pred=svr.predict(x_test)"
   ]
  },
  {
   "cell_type": "code",
   "execution_count": 57,
   "metadata": {},
   "outputs": [
    {
     "name": "stdout",
     "output_type": "stream",
     "text": [
      "cross val score is  -0.06467162070904035\n"
     ]
    }
   ],
   "source": [
    "#cross validation of the best r2 score\n",
    "cvs=cross_val_score(svr,x,y,cv=5)\n",
    "print('cross val score is ',cvs.mean())"
   ]
  },
  {
   "cell_type": "code",
   "execution_count": 58,
   "metadata": {},
   "outputs": [
    {
     "name": "stdout",
     "output_type": "stream",
     "text": [
      "r2_score is 0.6927329089153473\n"
     ]
    }
   ],
   "source": [
    "#getting best r2 score using ada boost regressor\n",
    "from sklearn.ensemble import AdaBoostRegressor\n",
    "\n",
    "ada=AdaBoostRegressor()\n",
    "ada.fit(x_train,y_train)\n",
    "print('r2_score is',ada.score(x_train,y_train))\n",
    "pred=ada.predict(x_test)"
   ]
  },
  {
   "cell_type": "code",
   "execution_count": 59,
   "metadata": {},
   "outputs": [
    {
     "name": "stdout",
     "output_type": "stream",
     "text": [
      "cross val score is  0.5531351682240586\n"
     ]
    }
   ],
   "source": [
    "#cross validation of the best r2 score\n",
    "cvs=cross_val_score(ada,x,y,cv=5)\n",
    "print('cross val score is ',cvs.mean())"
   ]
  },
  {
   "cell_type": "code",
   "execution_count": 64,
   "metadata": {},
   "outputs": [
    {
     "data": {
      "text/plain": [
       "['global_ppd.pkl']"
      ]
     },
     "execution_count": 64,
     "metadata": {},
     "output_type": "execute_result"
    }
   ],
   "source": [
    "#saving the model\n",
    "import joblib\n",
    "joblib.dump(rfr,'global_ppd.pkl')"
   ]
  },
  {
   "cell_type": "code",
   "execution_count": null,
   "metadata": {},
   "outputs": [],
   "source": []
  }
 ],
 "metadata": {
  "kernelspec": {
   "display_name": "Python 3",
   "language": "python",
   "name": "python3"
  },
  "language_info": {
   "codemirror_mode": {
    "name": "ipython",
    "version": 3
   },
   "file_extension": ".py",
   "mimetype": "text/x-python",
   "name": "python",
   "nbconvert_exporter": "python",
   "pygments_lexer": "ipython3",
   "version": "3.8.5"
  }
 },
 "nbformat": 4,
 "nbformat_minor": 4
}
